{
  "nbformat": 4,
  "nbformat_minor": 0,
  "metadata": {
    "colab": {
      "provenance": [],
      "collapsed_sections": []
    },
    "kernelspec": {
      "name": "python3",
      "display_name": "Python 3"
    },
    "language_info": {
      "name": "python"
    },
    "accelerator": "GPU",
    "gpuClass": "standard"
  },
  "cells": [
    {
      "cell_type": "code",
      "execution_count": 30,
      "metadata": {
        "id": "BKEyiJqWVlnf"
      },
      "outputs": [],
      "source": [
        "import pandas as pd\n",
        "import matplotlib.pyplot as plt\n",
        "\n",
        "from keras.layers import Dense, LSTM\n",
        "import tensorflow as tf\n",
        "\n",
        "from sklearn.model_selection import train_test_split\n",
        "from sklearn.preprocessing import MinMaxScaler"
      ]
    },
    {
      "cell_type": "code",
      "source": [
        "df = pd.read_csv(\"/content/D202.csv\", parse_dates=['DATE'])\n",
        "df.head()"
      ],
      "metadata": {
        "colab": {
          "base_uri": "https://localhost:8080/",
          "height": 206
        },
        "id": "-65JsmdcXVKc",
        "outputId": "8a34fb49-807f-471b-ac7e-1274f7016f39"
      },
      "execution_count": 31,
      "outputs": [
        {
          "output_type": "execute_result",
          "data": {
            "text/plain": [
              "             TYPE       DATE START TIME END TIME  USAGE UNITS    COST  NOTES\n",
              "0  Electric usage 2016-10-22       0:00     0:14   0.01   kWh  $0.00     NaN\n",
              "1  Electric usage 2016-10-22       0:15     0:29   0.01   kWh  $0.00     NaN\n",
              "2  Electric usage 2016-10-22       0:30     0:44   0.01   kWh  $0.00     NaN\n",
              "3  Electric usage 2016-10-22       0:45     0:59   0.01   kWh  $0.00     NaN\n",
              "4  Electric usage 2016-10-22       1:00     1:14   0.01   kWh  $0.00     NaN"
            ],
            "text/html": [
              "\n",
              "  <div id=\"df-e60511a9-5486-43b2-8902-e4c1d1252914\">\n",
              "    <div class=\"colab-df-container\">\n",
              "      <div>\n",
              "<style scoped>\n",
              "    .dataframe tbody tr th:only-of-type {\n",
              "        vertical-align: middle;\n",
              "    }\n",
              "\n",
              "    .dataframe tbody tr th {\n",
              "        vertical-align: top;\n",
              "    }\n",
              "\n",
              "    .dataframe thead th {\n",
              "        text-align: right;\n",
              "    }\n",
              "</style>\n",
              "<table border=\"1\" class=\"dataframe\">\n",
              "  <thead>\n",
              "    <tr style=\"text-align: right;\">\n",
              "      <th></th>\n",
              "      <th>TYPE</th>\n",
              "      <th>DATE</th>\n",
              "      <th>START TIME</th>\n",
              "      <th>END TIME</th>\n",
              "      <th>USAGE</th>\n",
              "      <th>UNITS</th>\n",
              "      <th>COST</th>\n",
              "      <th>NOTES</th>\n",
              "    </tr>\n",
              "  </thead>\n",
              "  <tbody>\n",
              "    <tr>\n",
              "      <th>0</th>\n",
              "      <td>Electric usage</td>\n",
              "      <td>2016-10-22</td>\n",
              "      <td>0:00</td>\n",
              "      <td>0:14</td>\n",
              "      <td>0.01</td>\n",
              "      <td>kWh</td>\n",
              "      <td>$0.00</td>\n",
              "      <td>NaN</td>\n",
              "    </tr>\n",
              "    <tr>\n",
              "      <th>1</th>\n",
              "      <td>Electric usage</td>\n",
              "      <td>2016-10-22</td>\n",
              "      <td>0:15</td>\n",
              "      <td>0:29</td>\n",
              "      <td>0.01</td>\n",
              "      <td>kWh</td>\n",
              "      <td>$0.00</td>\n",
              "      <td>NaN</td>\n",
              "    </tr>\n",
              "    <tr>\n",
              "      <th>2</th>\n",
              "      <td>Electric usage</td>\n",
              "      <td>2016-10-22</td>\n",
              "      <td>0:30</td>\n",
              "      <td>0:44</td>\n",
              "      <td>0.01</td>\n",
              "      <td>kWh</td>\n",
              "      <td>$0.00</td>\n",
              "      <td>NaN</td>\n",
              "    </tr>\n",
              "    <tr>\n",
              "      <th>3</th>\n",
              "      <td>Electric usage</td>\n",
              "      <td>2016-10-22</td>\n",
              "      <td>0:45</td>\n",
              "      <td>0:59</td>\n",
              "      <td>0.01</td>\n",
              "      <td>kWh</td>\n",
              "      <td>$0.00</td>\n",
              "      <td>NaN</td>\n",
              "    </tr>\n",
              "    <tr>\n",
              "      <th>4</th>\n",
              "      <td>Electric usage</td>\n",
              "      <td>2016-10-22</td>\n",
              "      <td>1:00</td>\n",
              "      <td>1:14</td>\n",
              "      <td>0.01</td>\n",
              "      <td>kWh</td>\n",
              "      <td>$0.00</td>\n",
              "      <td>NaN</td>\n",
              "    </tr>\n",
              "  </tbody>\n",
              "</table>\n",
              "</div>\n",
              "      <button class=\"colab-df-convert\" onclick=\"convertToInteractive('df-e60511a9-5486-43b2-8902-e4c1d1252914')\"\n",
              "              title=\"Convert this dataframe to an interactive table.\"\n",
              "              style=\"display:none;\">\n",
              "        \n",
              "  <svg xmlns=\"http://www.w3.org/2000/svg\" height=\"24px\"viewBox=\"0 0 24 24\"\n",
              "       width=\"24px\">\n",
              "    <path d=\"M0 0h24v24H0V0z\" fill=\"none\"/>\n",
              "    <path d=\"M18.56 5.44l.94 2.06.94-2.06 2.06-.94-2.06-.94-.94-2.06-.94 2.06-2.06.94zm-11 1L8.5 8.5l.94-2.06 2.06-.94-2.06-.94L8.5 2.5l-.94 2.06-2.06.94zm10 10l.94 2.06.94-2.06 2.06-.94-2.06-.94-.94-2.06-.94 2.06-2.06.94z\"/><path d=\"M17.41 7.96l-1.37-1.37c-.4-.4-.92-.59-1.43-.59-.52 0-1.04.2-1.43.59L10.3 9.45l-7.72 7.72c-.78.78-.78 2.05 0 2.83L4 21.41c.39.39.9.59 1.41.59.51 0 1.02-.2 1.41-.59l7.78-7.78 2.81-2.81c.8-.78.8-2.07 0-2.86zM5.41 20L4 18.59l7.72-7.72 1.47 1.35L5.41 20z\"/>\n",
              "  </svg>\n",
              "      </button>\n",
              "      \n",
              "  <style>\n",
              "    .colab-df-container {\n",
              "      display:flex;\n",
              "      flex-wrap:wrap;\n",
              "      gap: 12px;\n",
              "    }\n",
              "\n",
              "    .colab-df-convert {\n",
              "      background-color: #E8F0FE;\n",
              "      border: none;\n",
              "      border-radius: 50%;\n",
              "      cursor: pointer;\n",
              "      display: none;\n",
              "      fill: #1967D2;\n",
              "      height: 32px;\n",
              "      padding: 0 0 0 0;\n",
              "      width: 32px;\n",
              "    }\n",
              "\n",
              "    .colab-df-convert:hover {\n",
              "      background-color: #E2EBFA;\n",
              "      box-shadow: 0px 1px 2px rgba(60, 64, 67, 0.3), 0px 1px 3px 1px rgba(60, 64, 67, 0.15);\n",
              "      fill: #174EA6;\n",
              "    }\n",
              "\n",
              "    [theme=dark] .colab-df-convert {\n",
              "      background-color: #3B4455;\n",
              "      fill: #D2E3FC;\n",
              "    }\n",
              "\n",
              "    [theme=dark] .colab-df-convert:hover {\n",
              "      background-color: #434B5C;\n",
              "      box-shadow: 0px 1px 3px 1px rgba(0, 0, 0, 0.15);\n",
              "      filter: drop-shadow(0px 1px 2px rgba(0, 0, 0, 0.3));\n",
              "      fill: #FFFFFF;\n",
              "    }\n",
              "  </style>\n",
              "\n",
              "      <script>\n",
              "        const buttonEl =\n",
              "          document.querySelector('#df-e60511a9-5486-43b2-8902-e4c1d1252914 button.colab-df-convert');\n",
              "        buttonEl.style.display =\n",
              "          google.colab.kernel.accessAllowed ? 'block' : 'none';\n",
              "\n",
              "        async function convertToInteractive(key) {\n",
              "          const element = document.querySelector('#df-e60511a9-5486-43b2-8902-e4c1d1252914');\n",
              "          const dataTable =\n",
              "            await google.colab.kernel.invokeFunction('convertToInteractive',\n",
              "                                                     [key], {});\n",
              "          if (!dataTable) return;\n",
              "\n",
              "          const docLinkHtml = 'Like what you see? Visit the ' +\n",
              "            '<a target=\"_blank\" href=https://colab.research.google.com/notebooks/data_table.ipynb>data table notebook</a>'\n",
              "            + ' to learn more about interactive tables.';\n",
              "          element.innerHTML = '';\n",
              "          dataTable['output_type'] = 'display_data';\n",
              "          await google.colab.output.renderOutput(dataTable, element);\n",
              "          const docLink = document.createElement('div');\n",
              "          docLink.innerHTML = docLinkHtml;\n",
              "          element.appendChild(docLink);\n",
              "        }\n",
              "      </script>\n",
              "    </div>\n",
              "  </div>\n",
              "  "
            ]
          },
          "metadata": {},
          "execution_count": 31
        }
      ]
    },
    {
      "cell_type": "code",
      "source": [
        "print(\"Row : {}, Cols : {}\".format(df.shape[0], df.shape[1]))"
      ],
      "metadata": {
        "colab": {
          "base_uri": "https://localhost:8080/"
        },
        "id": "3L_p2SG6bqas",
        "outputId": "73d7b2e0-90bb-4ba7-a321-dc4fc93f3337"
      },
      "execution_count": 32,
      "outputs": [
        {
          "output_type": "stream",
          "name": "stdout",
          "text": [
            "Row : 70368, Cols : 8\n"
          ]
        }
      ]
    },
    {
      "cell_type": "code",
      "source": [
        "df.info()"
      ],
      "metadata": {
        "colab": {
          "base_uri": "https://localhost:8080/"
        },
        "id": "K_M9mb8rOhe3",
        "outputId": "5c23a9dc-3d5a-4c82-daf2-4768787da4f9"
      },
      "execution_count": 33,
      "outputs": [
        {
          "output_type": "stream",
          "name": "stdout",
          "text": [
            "<class 'pandas.core.frame.DataFrame'>\n",
            "RangeIndex: 70368 entries, 0 to 70367\n",
            "Data columns (total 8 columns):\n",
            " #   Column      Non-Null Count  Dtype         \n",
            "---  ------      --------------  -----         \n",
            " 0   TYPE        70368 non-null  object        \n",
            " 1   DATE        70368 non-null  datetime64[ns]\n",
            " 2   START TIME  70368 non-null  object        \n",
            " 3   END TIME    70368 non-null  object        \n",
            " 4   USAGE       70368 non-null  float64       \n",
            " 5   UNITS       70368 non-null  object        \n",
            " 6   COST        70368 non-null  object        \n",
            " 7   NOTES       0 non-null      float64       \n",
            "dtypes: datetime64[ns](1), float64(2), object(5)\n",
            "memory usage: 4.3+ MB\n"
          ]
        }
      ]
    },
    {
      "cell_type": "code",
      "source": [
        "df.isnull().sum()"
      ],
      "metadata": {
        "colab": {
          "base_uri": "https://localhost:8080/"
        },
        "id": "3CRHFxXgOhbv",
        "outputId": "db4a7ea8-1777-449c-8d1b-afc8f637a66d"
      },
      "execution_count": 34,
      "outputs": [
        {
          "output_type": "execute_result",
          "data": {
            "text/plain": [
              "TYPE              0\n",
              "DATE              0\n",
              "START TIME        0\n",
              "END TIME          0\n",
              "USAGE             0\n",
              "UNITS             0\n",
              "COST              0\n",
              "NOTES         70368\n",
              "dtype: int64"
            ]
          },
          "metadata": {},
          "execution_count": 34
        }
      ]
    },
    {
      "cell_type": "code",
      "source": [
        "dates = df['DATE'].values\n",
        "value = df['USAGE'].values"
      ],
      "metadata": {
        "id": "kwlYiQcmXRhS"
      },
      "execution_count": 35,
      "outputs": []
    },
    {
      "cell_type": "code",
      "source": [
        "plt.figure(figsize=(15,5))\n",
        "plt.plot(dates, value)\n",
        "plt.title(\"USAGE\")\n",
        "plt.show()"
      ],
      "metadata": {
        "colab": {
          "base_uri": "https://localhost:8080/",
          "height": 330
        },
        "id": "eNqsd4v6OhKJ",
        "outputId": "f8e76532-59ab-44b0-941d-82f931ec2423"
      },
      "execution_count": 36,
      "outputs": [
        {
          "output_type": "display_data",
          "data": {
            "text/plain": [
              "<Figure size 1080x360 with 1 Axes>"
            ],
            "image/png": "[encoded data removed]"
          },
          "metadata": {
            "needs_background": "light"
          }
        }
      ]
    },
    {
      "cell_type": "code",
      "source": [
        "scaler = MinMaxScaler(feature_range=(0,1))\n",
        "value_scaled = scaler.fit_transform(value.reshape(-1, 1))\n",
        "value_scaled"
      ],
      "metadata": {
        "colab": {
          "base_uri": "https://localhost:8080/"
        },
        "id": "XaSsi-0sOhHA",
        "outputId": "b5937580-c189-4991-b82d-d5019049c381"
      },
      "execution_count": 37,
      "outputs": [
        {
          "output_type": "execute_result",
          "data": {
            "text/plain": [
              "array([[0.00423729],\n",
              "       [0.00423729],\n",
              "       [0.00423729],\n",
              "       ...,\n",
              "       [0.01271186],\n",
              "       [0.01271186],\n",
              "       [0.01271186]])"
            ]
          },
          "metadata": {},
          "execution_count": 37
        }
      ]
    },
    {
      "cell_type": "code",
      "source": [
        "X_train, X_test, y_train, y_test = train_test_split(value_scaled, dates, test_size=0.2, shuffle=False, random_state=42)"
      ],
      "metadata": {
        "id": "UH-8SG09Xpv8"
      },
      "execution_count": 38,
      "outputs": []
    },
    {
      "cell_type": "code",
      "source": [
        "def windowed_dataset(series, window_size, batch_size, shuffle_buffer):\n",
        "    series = tf.expand_dims(series, axis=-1)\n",
        "    ds = tf.data.Dataset.from_tensor_slices(series)\n",
        "    ds = ds.window(window_size + 1, shift=1, drop_remainder=True)\n",
        "    ds = ds.flat_map(lambda w: w.batch(window_size + 1))\n",
        "    ds = ds.shuffle(shuffle_buffer)\n",
        "    ds = ds.map(lambda w: (w[:-1], w[-1:]))\n",
        "    return ds.batch(batch_size).prefetch(1)"
      ],
      "metadata": {
        "id": "D_d6JBSAOg7s"
      },
      "execution_count": 39,
      "outputs": []
    },
    {
      "cell_type": "code",
      "source": [
        "train_set = windowed_dataset(X_train, window_size=60, batch_size=100, shuffle_buffer=1000)\n",
        "test_set = windowed_dataset(X_test, window_size=60, batch_size=100, shuffle_buffer=1000)\n",
        "model = tf.keras.models.Sequential([\n",
        "  tf.keras.layers.Bidirectional(tf.keras.layers.LSTM(60, return_sequences=True), input_shape=(None, 1)),\n",
        "  tf.keras.layers.Bidirectional(tf.keras.layers.LSTM(60)),\n",
        "  tf.keras.layers.Dense(120, activation=\"relu\"),\n",
        "  tf.keras.layers.Dropout(0.5),\n",
        "  tf.keras.layers.Dense(120, activation=\"relu\"),\n",
        "  tf.keras.layers.Dropout(0.2),\n",
        "  tf.keras.layers.Dense(100, activation=\"relu\"),\n",
        "  tf.keras.layers.Dense(30, activation=\"relu\"),\n",
        "  tf.keras.layers.Dense(10, activation=\"relu\"),\n",
        "  tf.keras.layers.Dense(1),\n",
        "])\n",
        "\n",
        "skala = max(value_scaled) - min(value_scaled)\n",
        "minMae = skala * 10/100\n",
        "print(minMae)"
      ],
      "metadata": {
        "colab": {
          "base_uri": "https://localhost:8080/"
        },
        "id": "H3FV-RpHOg4l",
        "outputId": "8041c58f-d418-4f80-cb1a-04cbfcf7942e"
      },
      "execution_count": 40,
      "outputs": [
        {
          "output_type": "stream",
          "name": "stdout",
          "text": [
            "[0.1]\n"
          ]
        }
      ]
    },
    {
      "cell_type": "code",
      "source": [
        "optimizer = tf.keras.optimizers.SGD(lr=1e-0002, momentum=0.9)\n",
        "model.compile(loss=tf.keras.losses.Huber(),\n",
        "              optimizer=optimizer,\n",
        "              metrics=[\"mae\"])\n",
        "\n",
        "history = model.fit(train_set,\n",
        "                    epochs=25,\n",
        "                    validation_data=test_set)"
      ],
      "metadata": {
        "colab": {
          "base_uri": "https://localhost:8080/"
        },
        "id": "F4VOKq_hOg1o",
        "outputId": "8b19428a-7b19-402d-a5ec-8dd2ff69a64e"
      },
      "execution_count": 41,
      "outputs": [
        {
          "output_type": "stream",
          "name": "stdout",
          "text": [
            "Epoch 1/25\n"
          ]
        },
        {
          "output_type": "stream",
          "name": "stderr",
          "text": [
            "/usr/local/lib/python3.7/dist-packages/keras/optimizer_v2/gradient_descent.py:102: UserWarning: The `lr` argument is deprecated, use `learning_rate` instead.\n",
            "  super(SGD, self).__init__(name, **kwargs)\n"
          ]
        },
        {
          "output_type": "stream",
          "name": "stdout",
          "text": [
            "563/563 [==============================] - 41s 32ms/step - loss: 0.0045 - mae: 0.0522 - val_loss: 9.5083e-04 - val_mae: 0.0279\n",
            "Epoch 2/25\n",
            "563/563 [==============================] - 17s 30ms/step - loss: 0.0045 - mae: 0.0522 - val_loss: 9.4290e-04 - val_mae: 0.0284\n",
            "Epoch 3/25\n",
            "563/563 [==============================] - 18s 32ms/step - loss: 0.0045 - mae: 0.0522 - val_loss: 9.5466e-04 - val_mae: 0.0277\n",
            "Epoch 4/25\n",
            "563/563 [==============================] - 17s 30ms/step - loss: 0.0045 - mae: 0.0522 - val_loss: 9.5621e-04 - val_mae: 0.0277\n",
            "Epoch 5/25\n",
            "563/563 [==============================] - 17s 30ms/step - loss: 0.0045 - mae: 0.0522 - val_loss: 9.5711e-04 - val_mae: 0.0276\n",
            "Epoch 6/25\n",
            "563/563 [==============================] - 17s 30ms/step - loss: 0.0045 - mae: 0.0522 - val_loss: 9.5108e-04 - val_mae: 0.0279\n",
            "Epoch 7/25\n",
            "563/563 [==============================] - 17s 30ms/step - loss: 0.0045 - mae: 0.0521 - val_loss: 9.5063e-04 - val_mae: 0.0280\n",
            "Epoch 8/25\n",
            "563/563 [==============================] - 17s 30ms/step - loss: 0.0045 - mae: 0.0522 - val_loss: 9.6455e-04 - val_mae: 0.0274\n",
            "Epoch 9/25\n",
            "563/563 [==============================] - 17s 30ms/step - loss: 0.0045 - mae: 0.0522 - val_loss: 9.5530e-04 - val_mae: 0.0277\n",
            "Epoch 10/25\n",
            "563/563 [==============================] - 17s 30ms/step - loss: 0.0045 - mae: 0.0523 - val_loss: 9.5280e-04 - val_mae: 0.0279\n",
            "Epoch 11/25\n",
            "563/563 [==============================] - 17s 30ms/step - loss: 0.0045 - mae: 0.0522 - val_loss: 9.5629e-04 - val_mae: 0.0277\n",
            "Epoch 12/25\n",
            "563/563 [==============================] - 17s 30ms/step - loss: 0.0045 - mae: 0.0522 - val_loss: 9.5702e-04 - val_mae: 0.0277\n",
            "Epoch 13/25\n",
            "563/563 [==============================] - 17s 30ms/step - loss: 0.0045 - mae: 0.0523 - val_loss: 9.5572e-04 - val_mae: 0.0277\n",
            "Epoch 14/25\n",
            "563/563 [==============================] - 18s 32ms/step - loss: 0.0045 - mae: 0.0522 - val_loss: 9.5673e-04 - val_mae: 0.0277\n",
            "Epoch 15/25\n",
            "563/563 [==============================] - 17s 30ms/step - loss: 0.0045 - mae: 0.0522 - val_loss: 9.6351e-04 - val_mae: 0.0275\n",
            "Epoch 16/25\n",
            "563/563 [==============================] - 17s 30ms/step - loss: 0.0045 - mae: 0.0522 - val_loss: 9.6188e-04 - val_mae: 0.0275\n",
            "Epoch 17/25\n",
            "563/563 [==============================] - 17s 30ms/step - loss: 0.0045 - mae: 0.0523 - val_loss: 9.5113e-04 - val_mae: 0.0279\n",
            "Epoch 18/25\n",
            "563/563 [==============================] - 17s 30ms/step - loss: 0.0045 - mae: 0.0522 - val_loss: 9.6320e-04 - val_mae: 0.0275\n",
            "Epoch 19/25\n",
            "563/563 [==============================] - 17s 30ms/step - loss: 0.0045 - mae: 0.0522 - val_loss: 9.5850e-04 - val_mae: 0.0276\n",
            "Epoch 20/25\n",
            "563/563 [==============================] - 17s 30ms/step - loss: 0.0045 - mae: 0.0522 - val_loss: 9.4965e-04 - val_mae: 0.0280\n",
            "Epoch 21/25\n",
            "563/563 [==============================] - 17s 30ms/step - loss: 0.0045 - mae: 0.0522 - val_loss: 9.5128e-04 - val_mae: 0.0279\n",
            "Epoch 22/25\n",
            "563/563 [==============================] - 17s 30ms/step - loss: 0.0045 - mae: 0.0522 - val_loss: 9.5674e-04 - val_mae: 0.0277\n",
            "Epoch 23/25\n",
            "563/563 [==============================] - 17s 30ms/step - loss: 0.0045 - mae: 0.0522 - val_loss: 9.6475e-04 - val_mae: 0.0274\n",
            "Epoch 24/25\n",
            "563/563 [==============================] - 17s 30ms/step - loss: 0.0045 - mae: 0.0522 - val_loss: 9.4934e-04 - val_mae: 0.0280\n",
            "Epoch 25/25\n",
            "563/563 [==============================] - 17s 30ms/step - loss: 0.0045 - mae: 0.0522 - val_loss: 9.5590e-04 - val_mae: 0.0277\n"
          ]
        }
      ]
    },
    {
      "cell_type": "code",
      "source": [
        "plt.plot(history.history['loss'])\n",
        "plt.title('Model loss')\n",
        "plt.ylabel('Loss')\n",
        "plt.xlabel('Epoch')\n",
        "plt.legend(['Train'], loc='upper right')\n",
        "plt.show()"
      ],
      "metadata": {
        "id": "ICLzPALJOgyW",
        "colab": {
          "base_uri": "https://localhost:8080/",
          "height": 295
        },
        "outputId": "ebb080f2-18d6-450f-84a8-6b4c05c0282f"
      },
      "execution_count": 44,
      "outputs": [
        {
          "output_type": "display_data",
          "data": {
            "text/plain": [
              "<Figure size 432x288 with 1 Axes>"
            ],
            "image/png": "[encoded data removed]"
          },
          "metadata": {
            "needs_background": "light"
          }
        }
      ]
    },
    {
      "cell_type": "code",
      "source": [
        "plt.plot(history.history['mae'])\n",
        "plt.title('Model MAE')\n",
        "plt.ylabel('MAE')\n",
        "plt.xlabel('Epoch')\n",
        "plt.legend(['Train'], loc='upper right')\n",
        "plt.show()"
      ],
      "metadata": {
        "id": "iuxlBTUwOgvL",
        "colab": {
          "base_uri": "https://localhost:8080/",
          "height": 295
        },
        "outputId": "28c52d25-2e34-4788-86b3-f27705013faf"
      },
      "execution_count": 45,
      "outputs": [
        {
          "output_type": "display_data",
          "data": {
            "text/plain": [
              "<Figure size 432x288 with 1 Axes>"
            ],
            "image/png": "[encoded data removed]"
          },
          "metadata": {
            "needs_background": "light"
          }
        }
      ]
    },
    {
      "cell_type": "code",
      "source": [],
      "metadata": {
        "id": "ws_W_LWJiRPv"
      },
      "execution_count": null,
      "outputs": []
    }
  ]
}